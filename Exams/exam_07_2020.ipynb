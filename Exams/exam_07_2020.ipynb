{
 "cells": [
  {
   "cell_type": "code",
   "execution_count": null,
   "id": "academic-physics",
   "metadata": {},
   "outputs": [],
   "source": [
    "purchasesPath = \"/user/s292129/data/exam_07_2020/Purchases.txt\"\n",
    "out1 = \"out1_07_2020\"\n",
    "out2 = \"out2_07_2020\""
   ]
  },
  {
   "cell_type": "code",
   "execution_count": null,
   "id": "indian-dance",
   "metadata": {},
   "outputs": [],
   "source": [
    "purchasesRDD = sc.textFile(purchasesPath).cache()\n",
    "# schema: miD, customerID, date, price"
   ]
  },
  {
   "cell_type": "code",
   "execution_count": null,
   "id": "developing-suffering",
   "metadata": {},
   "outputs": [],
   "source": [
    "filteredRDD = purchasesRDD.filter(lambda line: line.split(\",\")[2].startswith('2019'))"
   ]
  },
  {
   "cell_type": "code",
   "execution_count": null,
   "id": "backed-freeze",
   "metadata": {},
   "outputs": [],
   "source": [
    "mID_priceRDD = filteredRDD.map(lambda line: (line.split(',')[0], float(line.split(',')[3])))"
   ]
  },
  {
   "cell_type": "code",
   "execution_count": null,
   "id": "analyzed-charger",
   "metadata": {},
   "outputs": [],
   "source": [
    "mID_incomeRDD = mID_priceRDD.reduceByKey(lambda v1, v2: v1+v2).cache()"
   ]
  },
  {
   "cell_type": "code",
   "execution_count": null,
   "id": "moral-arrival",
   "metadata": {},
   "outputs": [],
   "source": [
    "maxIncome = mID_incomeRDD.reduce(lambda income1, income2: max(income1, income2))"
   ]
  },
  {
   "cell_type": "code",
   "execution_count": null,
   "id": "starting-diagram",
   "metadata": {},
   "outputs": [],
   "source": [
    "mID_incomeRDD.filter(lambda pair: pair[1] == maxIncome).keys().saveAsTextFile(out1)"
   ]
  },
  {
   "cell_type": "markdown",
   "id": "expensive-excerpt",
   "metadata": {},
   "source": [
    "# TASK B"
   ]
  },
  {
   "cell_type": "code",
   "execution_count": null,
   "id": "grateful-cement",
   "metadata": {},
   "outputs": [],
   "source": [
    "filtered10YearsRDD = purchasesRDD.filter(lambda line: int(line.split(\",\")[2].split(\"/\")[0]) in range(2010,2020))"
   ]
  },
  {
   "cell_type": "code",
   "execution_count": null,
   "id": "skilled-bumper",
   "metadata": {},
   "outputs": [],
   "source": [
    "filtered10YearsRDD.collect()"
   ]
  },
  {
   "cell_type": "code",
   "execution_count": null,
   "id": "adult-oracle",
   "metadata": {},
   "outputs": [],
   "source": [
    "def returnPair(line):\n",
    "    fields = line.split(\",\")\n",
    "    mID = fields[0]\n",
    "    year = fields[2].split(\"/\")[0]\n",
    "    return ((mID, year), 1)\n",
    "\n",
    "mIDYear_oneRDD = filtered10YearsRDD.map(returnPair)"
   ]
  },
  {
   "cell_type": "code",
   "execution_count": null,
   "id": "mobile-cambridge",
   "metadata": {},
   "outputs": [],
   "source": [
    "mIDYear_sumPerYear = mIDYear_oneRDD.reduceByKey(lambda v1, v2: v1+v2).cache()"
   ]
  },
  {
   "cell_type": "code",
   "execution_count": null,
   "id": "looking-romania",
   "metadata": {},
   "outputs": [],
   "source": [
    "year_sum = mIDYear_sumPerYear.map(lambda pair: (pair[0][1], pair[1]))"
   ]
  },
  {
   "cell_type": "code",
   "execution_count": null,
   "id": "beginning-number",
   "metadata": {},
   "outputs": [],
   "source": [
    "year_maxPurchasesDict = year_sum.reduceByKey(lambda s1, s2: max(s1,s2)).collectAsMap()"
   ]
  },
  {
   "cell_type": "code",
   "execution_count": null,
   "id": "contained-finger",
   "metadata": {},
   "outputs": [],
   "source": [
    "year_maxPurchasesDict"
   ]
  },
  {
   "cell_type": "code",
   "execution_count": null,
   "id": "unsigned-fight",
   "metadata": {},
   "outputs": [],
   "source": [
    "filteredPerMaxPurchases = mIDYear_sumPerYear.filter(lambda pair: pair[1] == year_maxPurchasesDict[pair[0][1]])"
   ]
  },
  {
   "cell_type": "code",
   "execution_count": null,
   "id": "competent-connecticut",
   "metadata": {},
   "outputs": [],
   "source": [
    "filteredPerMaxPurchases.map(lambda pair: (pair[0][0], 1))\\\n",
    ".reduceByKey(lambda v1, v2: v1+v2).filter(lambda pair: pair[1] >= 2)\\\n",
    ".keys().collect()"
   ]
  },
  {
   "cell_type": "markdown",
   "id": "incoming-burden",
   "metadata": {},
   "source": [
    "# Task B, SQL solution"
   ]
  },
  {
   "cell_type": "code",
   "execution_count": null,
   "id": "becoming-vision",
   "metadata": {},
   "outputs": [],
   "source": []
  }
 ],
 "metadata": {
  "kernelspec": {
   "display_name": "PySpark (Local)",
   "language": "python",
   "name": "pyspark_local"
  },
  "language_info": {
   "codemirror_mode": {
    "name": "ipython",
    "version": 3
   },
   "file_extension": ".py",
   "mimetype": "text/x-python",
   "name": "python",
   "nbconvert_exporter": "python",
   "pygments_lexer": "ipython3",
   "version": "3.7.9"
  }
 },
 "nbformat": 4,
 "nbformat_minor": 5
}
