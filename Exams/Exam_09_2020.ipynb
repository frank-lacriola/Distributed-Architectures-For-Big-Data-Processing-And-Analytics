{
 "cells": [
  {
   "cell_type": "code",
   "execution_count": 4,
   "id": "sweet-stomach",
   "metadata": {},
   "outputs": [],
   "source": [
    "listenToPath = '/user/s292129/data/exam_09_2020/ListenToSongs.txt'\n",
    "usersPath = '/user/s292129/data/exam_09_2020/Users.txt'\n",
    "songsPath = \"/user/s292129/data/exam_09_2020/Songs.txt\""
   ]
  },
  {
   "cell_type": "code",
   "execution_count": 6,
   "id": "formed-toner",
   "metadata": {},
   "outputs": [
    {
     "data": {
      "text/plain": [
       "[('SID10', '2019'), ('SID11', '2016'), ('SID12', '2019')]"
      ]
     },
     "execution_count": 6,
     "metadata": {},
     "output_type": "execute_result"
    }
   ],
   "source": [
    "usersRDD = sc.textFile(usersPath)\n",
    "\n",
    "# We retrieve only the lines associated with young users\n",
    "\n",
    "youngUsersRDD =  usersRDD.filter(lambda line: int(line.split(\",\")[4]) > 1999)\n",
    "\n",
    "# We map each line associated with young users in a pair (userID, None) in order to be able to perform a join operation\n",
    "\n",
    "uid_NoneRDD  = youngUsersRDD.map(lambda line: ( line.split(\",\")[0], None ) )\n",
    "\n",
    "listenToRDD = sc.textFile(listenToPath).cache()\n",
    "\n",
    "# We retrieve the lines with songs listened to in the last two years\n",
    "\n",
    "listenToLastTwoYearsRDD =  listenToRDD.filter( lambda line: line.split(\",\")[2].split(\"_\")[0] >= \"2018/09/14\" and line.split(\",\")[2].split(\"_\")[0] <= \"2020/09/13\" )\n",
    "\n",
    "uid_sidRDD = listenToLastTwoYearsRDD.map( lambda line: ( line.split(\",\")[1], line.split(\",\")[0] ) ).cache()\n",
    "\n",
    "# We use this join operation to retrieve the songs that have been listened by young users in the last 2 years\n",
    "\n",
    "uid_sidNone = uid_sidRDD.join( uid_NoneRDD )\n",
    "\n",
    "# We get the songs never listened by young users in the last 2 years subtracting the songs that have been listened by young users from all the songs that have been listened by someone in the last two years\n",
    "\n",
    "sidNeverListenedByYoungs = uid_sidRDD.values().subtract( uid_sidNone.values().keys() )\n",
    "\n",
    "sidNeverListenedByYoungs.collect()\n",
    "\n",
    "\n",
    "\n",
    "# TASK 2 : For each song, the year in which it is characterized by its highest yearly popularity\n",
    "\n",
    "\n",
    "\n",
    "def mapFunc(line):\n",
    "\n",
    "    fields = line.split(',')\n",
    "\n",
    "    sid = fields[0]\n",
    "\n",
    "    year = fields[2].split(\"_\")[0].split('/')[0]\n",
    "\n",
    "    uid  = fields[1]\n",
    "\n",
    "    return ( (sid, year), uid )\n",
    "\n",
    "\n",
    "\n",
    "mappedListenToRDD =  listenToRDD.map( mapFunc )\n",
    "\n",
    "distinctListenToRDD = mappedListenToRDD.distinct()\n",
    "\n",
    "sidYear_one = distinctListenToRDD.mapValues(lambda v: 1)\n",
    "\n",
    "sidYear_popularity = sidYear_one.reduceByKey(lambda v1, v2: v1+v2)\n",
    "\n",
    "sid_yearPopularity = sidYear_popularity.map( lambda pair: ( pair[0][0], ( pair[0][1], pair[1] ) ) )\n",
    "\n",
    "# We use this defined function to get the maximum yearly popularity and its respective year using a reduceByKey transformation \n",
    "\n",
    "def returnMaxAndYear( v1, v2):\n",
    "\n",
    "    pop1 = v1[1]\n",
    "\n",
    "    pop2 = v2[1]\n",
    "\n",
    "    year1 = v1[0]\n",
    "\n",
    "    year2 = v2[0]\n",
    "\n",
    "    if pop1 > pop2 or ( pop1 == pop2 and year1 < year2):\n",
    "\n",
    "        return (year1, pop1)\n",
    "\n",
    "    else: \n",
    "\n",
    "        return (year2, pop2)\n",
    "\n",
    "\n",
    "\n",
    "sid_maxYearAndPopularity = sid_yearPopularity.reduceByKey(returnMaxAndYear)\n",
    "\n",
    "sid_maxYearAndPopularity.map( lambda pair: (pair[0], pair[1][0]) ).collect()"
   ]
  },
  {
   "cell_type": "code",
   "execution_count": 2,
   "id": "distant-donna",
   "metadata": {},
   "outputs": [],
   "source": [
    "listenToRDD = sc.textFile(listenToPath).cache()\n",
    "# schema: sid, uid, startTS, endTS\n",
    "usersRDD = sc.textFile(usersPath)\n",
    "# schema: uid, name, surname, gender, yearofbirth"
   ]
  },
  {
   "cell_type": "code",
   "execution_count": null,
   "id": "internal-oxygen",
   "metadata": {},
   "outputs": [],
   "source": [
    "filteredRDD = usersRDD.filter(lambda line: int(line.split(',')[4]) >= 1999)"
   ]
  },
  {
   "cell_type": "code",
   "execution_count": null,
   "id": "double-width",
   "metadata": {},
   "outputs": [],
   "source": [
    "youngUidsRDD = filteredRDD.map(lambda line: (line.split(',')[0]))"
   ]
  },
  {
   "cell_type": "code",
   "execution_count": null,
   "id": "related-example",
   "metadata": {},
   "outputs": [],
   "source": [
    "uid_songStartTS_RDD = listenToRDD.map(lambda line: (line.split(',')[1],\\\n",
    "                                           (line.split(','[0], line.split(',')[2]))))"
   ]
  },
  {
   "cell_type": "code",
   "execution_count": null,
   "id": "descending-electricity",
   "metadata": {},
   "outputs": [],
   "source": [
    "sid_startTSRDD =  youngUidsRDD.join(uid_songStartTS_RDD).map(lambda pair: (pair[1][0],\\\n",
    "                                                         pair[1][1])\n",
    "# schema : (sid, startTS)"
   ]
  },
  {
   "cell_type": "code",
   "execution_count": null,
   "id": "hollywood-recall",
   "metadata": {},
   "outputs": [],
   "source": [
    "sid_startTSRDD.groupByKey()\n",
    "\n",
    "def filterNeverListenedSongs(pair):\n",
    "    timestamps = list(pair[1])\n",
    "    timestamps2 = timestamps[1:]\n",
    "    neverListened\n",
    "    for ts1 in timestamps:\n",
    "        for ts2 in timestamps2:\n",
    "            if ts1"
   ]
  },
  {
   "cell_type": "code",
   "execution_count": null,
   "id": "usual-norman",
   "metadata": {},
   "outputs": [],
   "source": []
  },
  {
   "cell_type": "markdown",
   "id": "spread-emerald",
   "metadata": {},
   "source": [
    "# Task B"
   ]
  },
  {
   "cell_type": "code",
   "execution_count": 3,
   "id": "noble-negative",
   "metadata": {},
   "outputs": [],
   "source": [
    "distinctSidYear_uidRDD = listenToRDD.map(lambda line: ((line.split(',')[0],\\\n",
    "                                                        line.split(',')[2].split('_')[0].split('/')[0]),\\\n",
    "                                                        line.split(',')[1])).distinct()"
   ]
  },
  {
   "cell_type": "code",
   "execution_count": 4,
   "id": "consistent-episode",
   "metadata": {},
   "outputs": [],
   "source": [
    "sidYear_onesRDD = distinctSidYear_uidRDD.mapValues(lambda v: +1)"
   ]
  },
  {
   "cell_type": "code",
   "execution_count": 5,
   "id": "forward-roman",
   "metadata": {},
   "outputs": [],
   "source": [
    "sidYear_numOfListenersRDD = sidYear_onesRDD.reduceByKey(lambda v1, v2: v1+v2)"
   ]
  },
  {
   "cell_type": "code",
   "execution_count": 6,
   "id": "thirty-collapse",
   "metadata": {},
   "outputs": [],
   "source": [
    "sid_yearNumOfListenersRDD = sidYear_numOfListenersRDD.map(lambda pair: (pair[0][0], (pair[0][1], pair[1])))"
   ]
  },
  {
   "cell_type": "code",
   "execution_count": 10,
   "id": "southeast-auckland",
   "metadata": {},
   "outputs": [],
   "source": [
    "def yearForPopularity(pair1, pair2):\n",
    "    year1 = pair1[0]\n",
    "    year2 = pair2[0]\n",
    "    numListeners1 = pair1[1]\n",
    "    numListeners2 = pair2[1]\n",
    "    if (numListeners1 > numListeners2):\n",
    "        return pair1\n",
    "    elif (numListeners1 == numListeners2 and year1 < year2): \n",
    "        return pair1\n",
    "    elif (numListeners1 == numListeners2 and year1 > year2):\n",
    "        return pair2\n",
    "    else:\n",
    "        return pair2\n",
    "        \n",
    "sid_yearNOFperPopRDD = sid_yearNumOfListenersRDD.reduceByKey(yearForPopularity)"
   ]
  },
  {
   "cell_type": "code",
   "execution_count": 11,
   "id": "removed-motel",
   "metadata": {},
   "outputs": [
    {
     "data": {
      "text/plain": [
       "[('SID10', '2019'), ('SID11', '2016'), ('SID12', '2019')]"
      ]
     },
     "execution_count": 11,
     "metadata": {},
     "output_type": "execute_result"
    }
   ],
   "source": [
    "sid_yearNOFperPopRDD.map(lambda pair: (pair[0], pair[1][0])).collect()"
   ]
  },
  {
   "cell_type": "code",
   "execution_count": null,
   "id": "answering-deficit",
   "metadata": {},
   "outputs": [],
   "source": []
  }
 ],
 "metadata": {
  "kernelspec": {
   "display_name": "PySpark (Local)",
   "language": "python",
   "name": "pyspark_local"
  },
  "language_info": {
   "codemirror_mode": {
    "name": "ipython",
    "version": 3
   },
   "file_extension": ".py",
   "mimetype": "text/x-python",
   "name": "python",
   "nbconvert_exporter": "python",
   "pygments_lexer": "ipython3",
   "version": "3.7.9"
  }
 },
 "nbformat": 4,
 "nbformat_minor": 5
}
