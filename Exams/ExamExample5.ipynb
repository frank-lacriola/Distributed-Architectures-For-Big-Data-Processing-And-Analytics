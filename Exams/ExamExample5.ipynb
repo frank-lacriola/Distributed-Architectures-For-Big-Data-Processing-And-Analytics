{
 "cells": [
  {
   "cell_type": "markdown",
   "id": "waiting-function",
   "metadata": {},
   "source": [
    "# TaskA RDD based approach"
   ]
  },
  {
   "cell_type": "code",
   "execution_count": 1,
   "id": "local-notification",
   "metadata": {},
   "outputs": [],
   "source": [
    "serversPath = \"/user/s292129/data/exam_ex5_data/Servers.txt\"\n",
    "temperaturesAnomaliesPath = \"/user/s292129/data/exam_ex5_data/Servers_TemperatureAnomalies.txt\"\n",
    "outputPath1 = \"exam_ex5_out1/\"\n",
    "outputPath2 = \"exam_ex5_out2/\""
   ]
  },
  {
   "cell_type": "code",
   "execution_count": 2,
   "id": "expected-optimum",
   "metadata": {},
   "outputs": [],
   "source": [
    "anomInputRDD = sc.textFile(temperaturesAnomaliesPath).cache()\n",
    "# schema: sID, TimeStamp (date_time), AnomTempValue"
   ]
  },
  {
   "cell_type": "code",
   "execution_count": 3,
   "id": "public-gasoline",
   "metadata": {},
   "outputs": [],
   "source": [
    "filteredAnomRDD = anomInputRDD.filter(lambda line: int(line.split(',')[1].split('_')[0].split(\"/\")[0])\\\n",
    "                    in range(2010, 2019) and float(line.split(',')[2]) > 100)"
   ]
  },
  {
   "cell_type": "code",
   "execution_count": 4,
   "id": "governing-brighton",
   "metadata": {},
   "outputs": [],
   "source": [
    "def returnPair(line):\n",
    "    fields = line.split(\",\")\n",
    "    sID = fields[0]\n",
    "    year = fields[1].split(\"_\")[0].split(\"/\")[0]\n",
    "    return ((sID, year), 1)\n",
    "    \n",
    "sIdYear_oneRDD = filteredAnomRDD.map(returnPair)"
   ]
  },
  {
   "cell_type": "code",
   "execution_count": 5,
   "id": "hungarian-scope",
   "metadata": {},
   "outputs": [],
   "source": [
    "sIdYear_numAnomaliesRDD = sIdYear_oneRDD.reduceByKey(lambda v1, v2: v1+v2)"
   ]
  },
  {
   "cell_type": "code",
   "execution_count": 6,
   "id": "stone-photographer",
   "metadata": {},
   "outputs": [],
   "source": [
    "filteredPerYearRDD = sIdYear_numAnomaliesRDD.filter(lambda pair: pair[1] > 2)"
   ]
  },
  {
   "cell_type": "code",
   "execution_count": 7,
   "id": "final-heritage",
   "metadata": {},
   "outputs": [
    {
     "data": {
      "text/plain": [
       "[(('SID13', '2018'), 3), (('SID13', '2017'), 3)]"
      ]
     },
     "execution_count": 7,
     "metadata": {},
     "output_type": "execute_result"
    }
   ],
   "source": [
    "filteredPerYearRDD.collect()"
   ]
  },
  {
   "cell_type": "code",
   "execution_count": 9,
   "id": "official-valley",
   "metadata": {},
   "outputs": [
    {
     "data": {
      "text/plain": [
       "['SID13']"
      ]
     },
     "execution_count": 9,
     "metadata": {},
     "output_type": "execute_result"
    }
   ],
   "source": [
    "filteredPerYearRDD.map(lambda pair: pair[0][0]).distinct().collect()"
   ]
  },
  {
   "cell_type": "markdown",
   "id": "variable-white",
   "metadata": {},
   "source": [
    "# Task B - ERRATO"
   ]
  },
  {
   "cell_type": "code",
   "execution_count": 13,
   "id": "cellular-tower",
   "metadata": {},
   "outputs": [],
   "source": [
    "filteredAnom2_RDD = anomInputRDD.filter(lambda line: int(line.split(',')[1].split('_')[0].split(\"/\")[0])\\\n",
    "                    in range(2010, 2019))"
   ]
  },
  {
   "cell_type": "code",
   "execution_count": 14,
   "id": "christian-christopher",
   "metadata": {},
   "outputs": [],
   "source": [
    "serversRDD = sc.textFile(serversPath)\n",
    "def returnPairs(line):\n",
    "    fields = line.split(\",\")\n",
    "    sID = fields[0]\n",
    "    dcID = fields[2]\n",
    "    return (sID, dcID)\n",
    "\n",
    "sID_dcID_RDD = serversRDD.map(returnPairs)"
   ]
  },
  {
   "cell_type": "code",
   "execution_count": 16,
   "id": "immune-financing",
   "metadata": {},
   "outputs": [],
   "source": [
    "def returnPair2(line):\n",
    "    fields = line.split(\",\")\n",
    "    sID = fields[0]\n",
    "    return (sID, 1)\n",
    "\n",
    "sID_oneRDD = filteredAnom2_RDD.map(returnPair2)"
   ]
  },
  {
   "cell_type": "code",
   "execution_count": 18,
   "id": "blocked-leather",
   "metadata": {},
   "outputs": [],
   "source": [
    "sID_numAnomaliesRDD = sID_oneRDD.reduceByKey(lambda v1, v2: v1+v2)"
   ]
  },
  {
   "cell_type": "code",
   "execution_count": 22,
   "id": "occasional-anatomy",
   "metadata": {},
   "outputs": [],
   "source": [
    "filteredPerAnomRDD = sID_numAnomaliesRDD.filter(lambda pair: pair[1] <= 3)"
   ]
  },
  {
   "cell_type": "code",
   "execution_count": 24,
   "id": "parallel-valentine",
   "metadata": {},
   "outputs": [],
   "source": [
    "jointRDD = sID_dcID_RDD.join(filteredPerAnomRDD)\n",
    "# schema: sID, dcID, numAnom\n"
   ]
  },
  {
   "cell_type": "code",
   "execution_count": 26,
   "id": "noted-indian",
   "metadata": {},
   "outputs": [],
   "source": [
    "jointRDD = jointRDD.map(lambda pair: (pair[1][0], pair[0]))\n",
    "\n",
    "dcID_RDD = sID_dcID_RDD.map(lambda pair: (pair[1], pair[0]))\n"
   ]
  },
  {
   "cell_type": "code",
   "execution_count": null,
   "id": "supposed-brunei",
   "metadata": {},
   "outputs": [],
   "source": [
    "# we can cogroup on dcID and compare the size of the two lists\n",
    "cogroupedRDD = jointRDD.cogroup(dcID_RDD)"
   ]
  },
  {
   "cell_type": "code",
   "execution_count": null,
   "id": "adolescent-devon",
   "metadata": {},
   "outputs": [],
   "source": [
    "def finalFilter(pair):\n",
    "    l1 = list(pair[1][0])\n",
    "    l2 = list(pair[1][1])\n",
    "    if(len(l1) == len(l2)):\n",
    "        return True\n",
    "    \n",
    "cogroupedRDD.filter(finalFilter).keys().saveAsTextFile(outputPath2)"
   ]
  },
  {
   "cell_type": "code",
   "execution_count": null,
   "id": "herbal-holocaust",
   "metadata": {},
   "outputs": [],
   "source": []
  }
 ],
 "metadata": {
  "kernelspec": {
   "display_name": "PySpark (Local)",
   "language": "python",
   "name": "pyspark_local"
  },
  "language_info": {
   "codemirror_mode": {
    "name": "ipython",
    "version": 3
   },
   "file_extension": ".py",
   "mimetype": "text/x-python",
   "name": "python",
   "nbconvert_exporter": "python",
   "pygments_lexer": "ipython3",
   "version": "3.7.9"
  }
 },
 "nbformat": 4,
 "nbformat_minor": 5
}
