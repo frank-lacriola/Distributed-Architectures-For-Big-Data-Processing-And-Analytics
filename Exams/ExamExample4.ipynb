{
 "cells": [
  {
   "cell_type": "code",
   "execution_count": null,
   "id": "ecological-simulation",
   "metadata": {},
   "outputs": [],
   "source": [
    "inputPath = \"/user/s292129/data/exam_ex2_data/Stocks_Prices.txt\"\n",
    "outputPath1 = \"res_out_ExExemple4_1/\"\n",
    "outputPath2 = \"res_out_ExExemple4_2/\""
   ]
  },
  {
   "cell_type": "code",
   "execution_count": null,
   "id": "geographic-current",
   "metadata": {},
   "outputs": [],
   "source": [
    "inputRDD = sc.textFile(inputPath)"
   ]
  },
  {
   "cell_type": "markdown",
   "id": "satisfied-fortune",
   "metadata": {},
   "source": [
    "# Task A"
   ]
  },
  {
   "cell_type": "code",
   "execution_count": null,
   "id": "distributed-appearance",
   "metadata": {},
   "outputs": [],
   "source": [
    "inputRDD = inputRDD.filter(lambda line: line.split(\",\")[1].startswith(\"2017\"))"
   ]
  },
  {
   "cell_type": "code",
   "execution_count": null,
   "id": "grateful-wagon",
   "metadata": {},
   "outputs": [],
   "source": [
    "stockIDDate_pricesRDD = inputRDD.map(lambda line: ((line.split(',')[0],\\\n",
    "                                                    line.split(',')[1]),\\\n",
    "                                                    line.split(',')[3]))"
   ]
  },
  {
   "cell_type": "code",
   "execution_count": null,
   "id": "intensive-ranking",
   "metadata": {},
   "outputs": [],
   "source": [
    "key_maxminRDD = stockIDDate_pricesRDD.combineByKey(lambda e: (e, e),\\\n",
    "            lambda c, e: (max(c[0],e), min(c[1],e)),\\\n",
    "            lambda c1, c2: (max(c1[0], c2[0]), min(c1[1],c2[1])) )"
   ]
  },
  {
   "cell_type": "code",
   "execution_count": null,
   "id": "critical-glenn",
   "metadata": {},
   "outputs": [],
   "source": [
    "key_maxminRDD.collect()"
   ]
  },
  {
   "cell_type": "code",
   "execution_count": null,
   "id": "friendly-privilege",
   "metadata": {},
   "outputs": [],
   "source": [
    "key_dailyVariationRDD = key_maxminRDD.mapValues(lambda v: float(v[0]) - float(v[1])).cache()"
   ]
  },
  {
   "cell_type": "code",
   "execution_count": null,
   "id": "cooked-replacement",
   "metadata": {},
   "outputs": [],
   "source": [
    "key_dailyVariationRDD.collect()"
   ]
  },
  {
   "cell_type": "code",
   "execution_count": null,
   "id": "occupational-journey",
   "metadata": {},
   "outputs": [],
   "source": [
    "filteredRDD = key_dailyVariationRDD.filter(lambda pair: pair[1] > 10)"
   ]
  },
  {
   "cell_type": "code",
   "execution_count": null,
   "id": "sporting-armstrong",
   "metadata": {},
   "outputs": [],
   "source": [
    "stockID_dateRDD = filteredRDD.map(lambda pair: (pair[0][0], 1))"
   ]
  },
  {
   "cell_type": "code",
   "execution_count": null,
   "id": "pending-punch",
   "metadata": {},
   "outputs": [],
   "source": [
    "stockID_dateRDD.collect()"
   ]
  },
  {
   "cell_type": "code",
   "execution_count": null,
   "id": "little-fitness",
   "metadata": {},
   "outputs": [],
   "source": [
    "output1RDD = stockID_dateRDD.reduceByKey(lambda v1, v2: v1 + v2)"
   ]
  },
  {
   "cell_type": "code",
   "execution_count": null,
   "id": "unlikely-settlement",
   "metadata": {},
   "outputs": [],
   "source": [
    "output1RDD.saveAsTextFile(outputPath1)"
   ]
  },
  {
   "cell_type": "markdown",
   "id": "known-universe",
   "metadata": {},
   "source": [
    "# Task B - ERRATO"
   ]
  },
  {
   "cell_type": "code",
   "execution_count": null,
   "id": "executed-flight",
   "metadata": {},
   "outputs": [],
   "source": [
    "# This funciton is already provided\n",
    "from datetime import datetime, timedelta\n",
    "\n",
    "def previousDate(mydate):\n",
    "    currentDate = datetime.strptime(mydate, \"%Y/%m/%d\")   \n",
    "    prevDate=currentDate - timedelta(days=1)\n",
    "    \n",
    "    return prevDate.strftime(\"%Y/%m/%d\")  "
   ]
  },
  {
   "cell_type": "code",
   "execution_count": null,
   "id": "rational-stocks",
   "metadata": {},
   "outputs": [],
   "source": [
    "key_dailyVariationRDD = key_dailyVariationRDD.map(lambda line: [line.split(\",\")[0], line.split(\",\")[1], float(line.split(\",\")[2])])"
   ]
  },
  {
   "cell_type": "code",
   "execution_count": null,
   "id": "preceding-transsexual",
   "metadata": {},
   "outputs": [],
   "source": [
    "key_dailyVarDF = spark.createDataFrame(key_dailyVariationRDD, [\"stockID\",\"date\",\"dailyVar\"])"
   ]
  },
  {
   "cell_type": "code",
   "execution_count": null,
   "id": "dutch-maldives",
   "metadata": {},
   "outputs": [],
   "source": [
    "key_dailyVarDF.createOrReplaceTempView(\"variations\")"
   ]
  },
  {
   "cell_type": "code",
   "execution_count": null,
   "id": "concerned-seeking",
   "metadata": {},
   "outputs": [],
   "source": [
    "copiedDF = key_dailyVarDF"
   ]
  },
  {
   "cell_type": "code",
   "execution_count": null,
   "id": "bored-gravity",
   "metadata": {},
   "outputs": [],
   "source": [
    "copiedDF.withColumnRenamed(\"date\",\"date2\").withColumnRenamed(\"stockID\",\"stockID2\").createOrReplaceTempView(\"variations_copy\")"
   ]
  },
  {
   "cell_type": "code",
   "execution_count": null,
   "id": "premier-stream",
   "metadata": {},
   "outputs": [],
   "source": [
    "returnedDF = spark.sql(\"SELECT * \\\n",
    "                       FROM variations JOIN variations_copy ON stockID=stockID2 AND previousDate(date)=date2\")"
   ]
  },
  {
   "cell_type": "code",
   "execution_count": null,
   "id": "unknown-chapter",
   "metadata": {},
   "outputs": [],
   "source": [
    "returnedDF.show()"
   ]
  },
  {
   "cell_type": "markdown",
   "id": "widespread-peripheral",
   "metadata": {},
   "source": [
    "# Task B - ALTERNATIVE WITH RDD - ERRATO"
   ]
  },
  {
   "cell_type": "code",
   "execution_count": null,
   "id": "judicial-things",
   "metadata": {},
   "outputs": [],
   "source": [
    "key_dailyVariationRDD_copy = key_dailyVariationRDD\n",
    "jointRDD = key_dailyVariationRDD.join(key_dailyVariationRDD_copy)\n",
    "\n",
    "def mapFunct(pair):\n",
    "    stockID = pair[0]\n",
    "    date1 = pair[1][0].split(\",\")[0]\n",
    "    dailyVar1 = pair[1][0].split(\",\")[1]\n",
    "    date2 = pair[1][1].split(\",\")[0]\n",
    "    dailyVar2 = pair[1][1].split(\",\")[1]\n",
    "    if (previousDate(date1) == date2 and abs(dailyVar1 - dailyVar2) <= 0.1):\n",
    "        return (stockID, date2)\n",
    "        \n",
    "    \n",
    "outputRDD = jointRDD.map(mapFunct)\n"
   ]
  },
  {
   "cell_type": "code",
   "execution_count": null,
   "id": "portuguese-allocation",
   "metadata": {},
   "outputs": [],
   "source": [
    "outputRDD.collect()"
   ]
  },
  {
   "cell_type": "code",
   "execution_count": null,
   "id": "liberal-mineral",
   "metadata": {},
   "outputs": [],
   "source": []
  }
 ],
 "metadata": {
  "kernelspec": {
   "display_name": "PySpark (Local)",
   "language": "python",
   "name": "pyspark_local"
  },
  "language_info": {
   "codemirror_mode": {
    "name": "ipython",
    "version": 3
   },
   "file_extension": ".py",
   "mimetype": "text/x-python",
   "name": "python",
   "nbconvert_exporter": "python",
   "pygments_lexer": "ipython3",
   "version": "3.7.9"
  }
 },
 "nbformat": 4,
 "nbformat_minor": 5
}
