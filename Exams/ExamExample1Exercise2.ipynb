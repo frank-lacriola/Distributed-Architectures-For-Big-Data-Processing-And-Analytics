{
 "cells": [
  {
   "cell_type": "code",
   "execution_count": 2,
   "metadata": {},
   "outputs": [],
   "source": [
    "# Exam example #1 \n",
    "# Exercise #2"
   ]
  },
  {
   "cell_type": "code",
   "execution_count": 11,
   "metadata": {},
   "outputs": [],
   "source": [
    "inputPathPOIs = \"exam_ex2_data/POIs.txt\"\n",
    "outputPathPartA = \"out_PartA\"\n",
    "outputPathPartB = \"out_PartB\""
   ]
  },
  {
   "cell_type": "code",
   "execution_count": 12,
   "metadata": {},
   "outputs": [],
   "source": [
    "# *****************************************\n",
    "# Exercise 2 - Part A\n",
    "# *****************************************\n",
    "\n",
    "# Read the content of POIs.txt\n",
    "# POI_ID,latitude,longitude,city,country,category,subcategory\n",
    "poisRDD = sc.textFile(inputPathPOIs)"
   ]
  },
  {
   "cell_type": "code",
   "execution_count": 13,
   "metadata": {},
   "outputs": [],
   "source": [
    "# Select only the Italian cities\n",
    "poisItalyRDD = poisRDD.filter(lambda line: line.split(\",\")[4]==\"Italy\").cache()"
   ]
  },
  {
   "cell_type": "code",
   "execution_count": 14,
   "metadata": {},
   "outputs": [],
   "source": [
    "# Select only the POIs with subcategory=\"Taxi\" or subcategory=\"Busstop\"\n",
    "\n",
    "def filterSubcategories(line):\n",
    "    fields = line.split(\",\")\n",
    "    subcategory = fields[6]\n",
    "    \n",
    "    if (subcategory==\"taxi\" or subcategory==\"busstop\"):\n",
    "        return True\n",
    "    else:\n",
    "        return False\n",
    "    \n",
    "\n",
    "poisItalySelectedSubcategoriesRDD = poisItalyRDD.filter(filterSubcategories)"
   ]
  },
  {
   "cell_type": "code",
   "execution_count": 15,
   "metadata": {},
   "outputs": [],
   "source": [
    "# Generate for each of the selected input lines a pair with\n",
    "# key = city\n",
    "# value = (taxi=0/1,busstop=0/1)\n",
    "\n",
    "def extractPairsCitySubcategoriesCounters(line):\n",
    "    fields = line.split(\",\")\n",
    "    city = fields[3]\n",
    "    subcategory = fields[6]\n",
    "    \n",
    "    if (subcategory==\"taxi\"):\n",
    "        return (city, (1, 0))\n",
    "    else:\n",
    "        return (city, (0, 1))\n",
    "    \n",
    "    \n",
    "    \n",
    "\n",
    "cityTaxiBusstopRDD = poisItalySelectedSubcategoriesRDD.map(extractPairsCitySubcategoriesCounters)"
   ]
  },
  {
   "cell_type": "code",
   "execution_count": 16,
   "metadata": {},
   "outputs": [],
   "source": [
    "# For each Italian city, compute\n",
    "# - number of taxi POIs\n",
    "# - number of Busstop POIs\n",
    "cityNumTaxiNumBusstopRDD = cityTaxiBusstopRDD.reduceByKey(lambda v1,v2: (v1[0]+v2[0], v1[1]+v2[1]) )"
   ]
  },
  {
   "cell_type": "code",
   "execution_count": 17,
   "metadata": {},
   "outputs": [],
   "source": [
    "# Select only the element with\n",
    "# - number of taxi POIs >=1\n",
    "# - number of Busstop =0\n",
    "selectedCityNumTaxiNumBusstopRDD = cityNumTaxiNumBusstopRDD\\\n",
    ".filter(lambda pair: pair[1][0]>=1 and pair[1][1]==0)"
   ]
  },
  {
   "cell_type": "code",
   "execution_count": 19,
   "metadata": {},
   "outputs": [],
   "source": [
    "# Save the selected cities = the keys of selectedCityNumTaxiNumBusstop\n",
    "selectedCityNumTaxiNumBusstopRDD.keys()\\\n",
    ".saveAsTextFile(outputPathPartA)"
   ]
  },
  {
   "cell_type": "code",
   "execution_count": null,
   "metadata": {},
   "outputs": [],
   "source": []
  },
  {
   "cell_type": "code",
   "execution_count": 24,
   "metadata": {},
   "outputs": [],
   "source": [
    "# *****************************************\n",
    "# Exercise 2 - Part B\n",
    "# *****************************************"
   ]
  },
  {
   "cell_type": "code",
   "execution_count": 25,
   "metadata": {},
   "outputs": [],
   "source": [
    "# Count the number of museum POIs for each Italian city\n",
    "\n",
    "# Generate for each input line a pair with\n",
    "# key = city\n",
    "# value = 1 if subcategory=\"museum\"\n",
    "# value = 0 if subcategory!=\"museum\"\n",
    "\n",
    "def extractCityMuseum(line):\n",
    "    fields = line.split(\",\")\n",
    "    city = fields[3]\n",
    "    subcategory = fields[6]\n",
    "    \n",
    "    if (subcategory==\"museum\"):\n",
    "        return (city, 1)\n",
    "    else:\n",
    "        return (city, 0)\n",
    "\n",
    "\n",
    "cityMuseumPOIsRDD = poisItalyRDD.map(extractCityMuseum)"
   ]
  },
  {
   "cell_type": "code",
   "execution_count": 26,
   "metadata": {},
   "outputs": [],
   "source": [
    "# Count the number of museum POIs for each Italian city\n",
    "cityNumMuseumPOIsRDD = cityMuseumPOIsRDD.reduceByKey(lambda v1,v2: v1+v2).cache()"
   ]
  },
  {
   "cell_type": "code",
   "execution_count": 27,
   "metadata": {},
   "outputs": [],
   "source": [
    "# Each input element represents\n",
    "# - an italian city\n",
    "# - the number of museum POIs for that city\n",
    "# Emit one tuple for each input pair. Each tuple represents\n",
    "# - numOfCities (set to 1 for each input pair)\n",
    "# - numMuseumPOIs (for that city) = value of the input pair\n",
    "numCitiesNumMuseumPOIsRDD = cityNumMuseumPOIsRDD.map(lambda pair: (1, pair[1]))"
   ]
  },
  {
   "cell_type": "code",
   "execution_count": 36,
   "metadata": {},
   "outputs": [],
   "source": [
    "# Compute total number of Italian cities and total number of \"museum\" POIs the\n",
    "# Italy (i.e., in the Italian cities)\n",
    "# Store it in a local variable of the driver\n",
    "totalNumCitiesNumMuseumPOIs = numCitiesNumMuseumPOIsRDD\\\n",
    ".reduce(lambda tuple1,tuple2: (tuple1[0]+tuple2[0], tuple1[1]+tuple2[1]) )"
   ]
  },
  {
   "cell_type": "code",
   "execution_count": 37,
   "metadata": {},
   "outputs": [],
   "source": [
    "# Compute average number of \"museum\" POIs per city in Italy\n",
    "# Store it in a local variable of the driver\n",
    "average = totalNumCitiesNumMuseumPOIs[1]/totalNumCitiesNumMuseumPOIs[0]"
   ]
  },
  {
   "cell_type": "code",
   "execution_count": 38,
   "metadata": {},
   "outputs": [],
   "source": [
    "# Select only the Italian cities with a number of \"museum\" POIs\n",
    "# (subcategory=\"museum\") greater than the average number of \"museum\" POIs per\n",
    "# city in Italy\n",
    "selectedCityNumMuseumPOIsRDD = cityNumMuseumPOIsRDD.\\\n",
    "filter(lambda inputPair: inputPair[1]> average)"
   ]
  },
  {
   "cell_type": "code",
   "execution_count": 40,
   "metadata": {},
   "outputs": [],
   "source": [
    "# Store the selected cities\n",
    "selectedCityNumMuseumPOIsRDD.keys()\\\n",
    ".saveAsTextFile(outputPathPartB)"
   ]
  }
 ],
 "metadata": {
  "kernelspec": {
   "display_name": "Python 3",
   "language": "python",
   "name": "python3"
  },
  "language_info": {
   "codemirror_mode": {
    "name": "ipython",
    "version": 3
   },
   "file_extension": ".py",
   "mimetype": "text/x-python",
   "name": "python",
   "nbconvert_exporter": "python",
   "pygments_lexer": "ipython3",
   "version": "3.7.9"
  }
 },
 "nbformat": 4,
 "nbformat_minor": 4
}
