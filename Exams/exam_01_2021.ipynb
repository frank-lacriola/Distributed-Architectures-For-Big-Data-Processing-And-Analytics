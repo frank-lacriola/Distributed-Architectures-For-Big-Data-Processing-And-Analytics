{
 "cells": [
  {
   "cell_type": "code",
   "execution_count": null,
   "id": "refined-procurement",
   "metadata": {},
   "outputs": [],
   "source": [
    "failuresPath = '/user/s292129/data/exam_01_2021/Failures.txt'\n",
    "# schema : RID , FailTypeCode, Date, Time\n",
    "robotsPath = '/user/s292129/data/exam_01_2021/Robots.txt'\n",
    "# schema: RID, PlantID, IP\n",
    "prodPlantsPath = '/user/s292129/data/exam_01_2021/ProductionPlants.txt'\n",
    "# schema: PlantID, City, Country"
   ]
  },
  {
   "cell_type": "code",
   "execution_count": null,
   "id": "original-queue",
   "metadata": {},
   "outputs": [],
   "source": [
    "# Task 1: City with the maximum number of robots\n",
    "\n",
    "prodPlantsRDD =  sc.textFile(prodPlantsPath).cache()\n",
    "\n",
    "# We map each line of productionPlants.txt associated with italian cities in pairs (plantID, city)\n",
    "\n",
    "prodPlant_city = prodPlantsRDD.filter(lambda line: line.split(',')[2] ==  'Italy' ).map(lambda line: ( line.split(',')[0], line.split(',')[1] ) )\n",
    "\n",
    "robotsRDD = sc.textFile( robotsPath ).cache()\n",
    "\n",
    "# We map each line of robots.txt in pairs (plantID, +1) and then we join this records with the ones of prodPlant_city in order to count the number of robots for each city\n",
    "\n",
    "robots_oneRDD = robotsRDD.map( lambda line: ( line.split(',')[1], +1 ) )\n",
    "\n",
    "pID_cityone = prodPlant_city.join( robots_oneRDD )\n",
    "\n",
    "city_numRobots = pID_cityone.values().reduceByKey(lambda v1, v2: v1+v2).cache()\n",
    "\n",
    "# We compute the maximum number of robot per city with a reduce action and then we select the cities associated with this maximum value obtained\n",
    "\n",
    "maxRobotsPerCity = city_numRobots.reduce( lambda pair1, pair2: max( pair1[1], pair2[1] ) )\n",
    "\n",
    "city_numRobots.filter( lambda pair: pair[1] == maxRobotsPerCity ).keys().collect()"
   ]
  },
  {
   "cell_type": "code",
   "execution_count": null,
   "id": "clinical-minute",
   "metadata": {},
   "outputs": [],
   "source": [
    "# TASK 2 : Maximum number of failures per robot for each prod plant \n",
    "\n",
    "failuresRDD = sc.textFile(failuresPath) \n"
   ]
  },
  {
   "cell_type": "code",
   "execution_count": null,
   "id": "enormous-darwin",
   "metadata": {},
   "outputs": [],
   "source": [
    "\n",
    "rid_one  = failuresRDD.map( lambda line:  ( line.split(',')[0], +1 ) )\n",
    "\n",
    "rid_pid = robotsRDD.map( lambda line:  ( line.split(',')[0], line.split(',')[1] ) )\n"
   ]
  },
  {
   "cell_type": "code",
   "execution_count": null,
   "id": "broad-future",
   "metadata": {},
   "outputs": [],
   "source": [
    "# We join the pairs (rid, pid) with (rid, 1) to compute the number of failures for each distinct production plant and robot\n",
    "\n",
    "rid_pidone = rid_pid.join(rid_one)"
   ]
  },
  {
   "cell_type": "code",
   "execution_count": null,
   "id": "mechanical-given",
   "metadata": {},
   "outputs": [],
   "source": [
    "pidrid_one = rid_pidone.map( lambda pair: ( ( pair[1][0], pair[0] ), +1 ) )\n",
    "\n",
    "pidrid_numFailures = pidrid_one.reduceByKey( lambda v1, v2: v1+v2 )\n"
   ]
  },
  {
   "cell_type": "code",
   "execution_count": null,
   "id": "capital-proof",
   "metadata": {},
   "outputs": [],
   "source": [
    "# We compute the maximum number of failures associated with a robot for each production plant with a reduceByKey transformation\n",
    "\n",
    "pid_numFailures = pidrid_numFailures.map( lambda pair: ( pair[0][0], pair[1] ) ) \n",
    "\n",
    "\n",
    "pid_maxFailuresPerRobot = pid_numFailures.reduceByKey( lambda v1, v2: max(v1, v2) )\n",
    "\n",
    "# We map all the lines of ProductionPlants.txt with a pair (plantid, 0) and then with subtractByKey we retrieve only the lines with a plantID that is not associated with a robot for which failures have occurred\n",
    "\n",
    "pid_zeroRDD = prodPlantsRDD.map( lambda line: ( line.split(',')[0], 0) )\n",
    "\n",
    "pid_zeroRDD = pid_zeroRDD.subtractByKey( pid_maxFailuresPerRobot )\n",
    "\n",
    "# Finally we use union to get the finalRDD with the maximum number of failures for each production plant\n",
    "\n",
    "finalRDD = pid_maxFailuresPerRobot.union( pid_zeroRDD )"
   ]
  },
  {
   "cell_type": "code",
   "execution_count": null,
   "id": "current-digest",
   "metadata": {},
   "outputs": [],
   "source": [
    "finalRDD.collect()"
   ]
  }
 ],
 "metadata": {
  "kernelspec": {
   "display_name": "PySpark (Local)",
   "language": "python",
   "name": "pyspark_local"
  },
  "language_info": {
   "codemirror_mode": {
    "name": "ipython",
    "version": 3
   },
   "file_extension": ".py",
   "mimetype": "text/x-python",
   "name": "python",
   "nbconvert_exporter": "python",
   "pygments_lexer": "ipython3",
   "version": "3.7.9"
  }
 },
 "nbformat": 4,
 "nbformat_minor": 5
}
