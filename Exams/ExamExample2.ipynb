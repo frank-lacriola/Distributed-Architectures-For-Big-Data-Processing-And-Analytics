{
 "cells": [
  {
   "cell_type": "code",
   "execution_count": 8,
   "id": "exterior-prescription",
   "metadata": {},
   "outputs": [
    {
     "data": {
      "text/plain": [
       "[('Rome-Italy', 22.5), ('Turin-Italy', 33.166666666666664)]"
      ]
     },
     "execution_count": 8,
     "metadata": {},
     "output_type": "execute_result"
    }
   ],
   "source": [
    "tempsPath = '/user/s292129/data/exam_ex2_data/Temperatures.txt'\n",
    "\n",
    "#Schema :  date_reading,city,country,max_temperature,min_temperature \n",
    "\n",
    "\n",
    "# Task A – Meteorological summer 2015 – City average maximum temperature\n",
    "tempsRDD = sc.textFile(tempsPath)\n",
    "summerTempsRDD = tempsRDD.filter( lambda line: line.split(',')[0].startswith('2015/06')\\\n",
    "                                 or line.split(',')[0].startswith('2015/07') or line.split(',')[0].startswith('2015/08'))\n",
    "def mapFunc1(line):\n",
    "    fields = line.split(',');\n",
    "    city = fields[1]\n",
    "    country = fields[2]\n",
    "    maxTemp = float(fields[3])\n",
    "    return (city+'-'+country, (maxTemp, +1))\n",
    "\n",
    "cityCountry_sumsRDD  = summerTempsRDD.map(mapFunc1).reduceByKey(lambda v1,v2: (v1[0]+v2[0], v1[1]+v2[1])) \n",
    "cityCountry_averageRDD  = cityCountry_sumsRDD.mapValues( lambda v: v[0]/v[1]).cache()\n",
    "cityCountry_averageRDD.collect()\n",
    "\n"
   ]
  },
  {
   "cell_type": "code",
   "execution_count": 9,
   "id": "protecting-porcelain",
   "metadata": {},
   "outputs": [
    {
     "data": {
      "text/plain": [
       "['Turin']"
      ]
     },
     "execution_count": 9,
     "metadata": {},
     "output_type": "execute_result"
    }
   ],
   "source": [
    "# Task B – Meteorological summer 2015 – Hot cities\n",
    "countryMappedRDD = cityCountry_averageRDD.map(lambda pair: (pair[0].split('-')[1], (pair[1], 1)))\n",
    "country_sumsRDD = countryMappedRDD.reduceByKey( lambda v1, v2: (v1[0]+v2[0], v1[1]+v2[1]))\n",
    "country_averageRDD  = country_sumsRDD.mapValues(lambda v : v[0]/v[1])\n",
    "country_cityAvgRDD = cityCountry_averageRDD.map(lambda pair: (pair[0].split('-')[1], (pair[0].split('-')[0], pair[1])))\n",
    "country__cityAvg_countryAvg = country_cityAvgRDD.join(country_averageRDD)\n",
    "country__cityAvg_countryAvg.values().filter(lambda pair:  pair[0][1] > (pair[1] + 5)).keys().keys().collect()\n"
   ]
  },
  {
   "cell_type": "code",
   "execution_count": null,
   "id": "younger-insulin",
   "metadata": {},
   "outputs": [],
   "source": []
  }
 ],
 "metadata": {
  "kernelspec": {
   "display_name": "PySpark (Local)",
   "language": "python",
   "name": "pyspark_local"
  },
  "language_info": {
   "codemirror_mode": {
    "name": "ipython",
    "version": 3
   },
   "file_extension": ".py",
   "mimetype": "text/x-python",
   "name": "python",
   "nbconvert_exporter": "python",
   "pygments_lexer": "ipython3",
   "version": "3.7.9"
  }
 },
 "nbformat": 4,
 "nbformat_minor": 5
}
