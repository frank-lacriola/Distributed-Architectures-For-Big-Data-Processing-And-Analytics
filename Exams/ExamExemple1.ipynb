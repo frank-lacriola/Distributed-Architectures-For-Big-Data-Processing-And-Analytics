{
 "cells": [
  {
   "cell_type": "code",
   "execution_count": null,
   "id": "acknowledged-grounds",
   "metadata": {},
   "outputs": [],
   "source": [
    "# ---EXERCISE 2, A:"
   ]
  },
  {
   "cell_type": "code",
   "execution_count": 1,
   "id": "structured-interface",
   "metadata": {},
   "outputs": [],
   "source": [
    "inputPath = \"/user/s292129/data/POIs.txt\"\n",
    "outputPath = \"res_out_ExExemple1/\""
   ]
  },
  {
   "cell_type": "code",
   "execution_count": 5,
   "id": "opening-holiday",
   "metadata": {},
   "outputs": [],
   "source": [
    "inputRDD = sc.textFile(inputPath).cache()\n",
    "filteredRDD = inputRDD.filter(lambda line: line.split(',')[4] == \"Italy\")\n",
    "city_subcatRDD = filteredRDD.map(lambda line: (line.split(',')[3],\\\n",
    "                                               line.split(',')[6]))\n"
   ]
  },
  {
   "cell_type": "code",
   "execution_count": 6,
   "id": "focal-relation",
   "metadata": {},
   "outputs": [
    {
     "data": {
      "text/plain": [
       "[('Milan', ['taxi', 'busstop']),\n",
       " ('Carmagnola', ['taxi']),\n",
       " ('Turin',\n",
       "  ['museum',\n",
       "   'museum',\n",
       "   'artgallery',\n",
       "   'shoes',\n",
       "   'shoes',\n",
       "   'shoes',\n",
       "   'taxi',\n",
       "   'busstop',\n",
       "   'taxi']),\n",
       " ('Rome', ['museum', 'artgallery', 'artgallery']),\n",
       " ('Naples', ['shoes'])]"
      ]
     },
     "execution_count": 6,
     "metadata": {},
     "output_type": "execute_result"
    }
   ],
   "source": [
    "groupedByCityRDD = city_subcatRDD.groupByKey()\n",
    "#groupedByCityRDD.mapValues(lambda l: list(l)). ()"
   ]
  },
  {
   "cell_type": "code",
   "execution_count": 7,
   "id": "banner-buying",
   "metadata": {},
   "outputs": [],
   "source": [
    "lastFiltered = groupedByCityRDD.filter(lambda pair: \"taxi\" in pair[1] and\\\n",
    "                                       \"busstop\" not in pair[1])"
   ]
  },
  {
   "cell_type": "code",
   "execution_count": 9,
   "id": "adult-envelope",
   "metadata": {},
   "outputs": [],
   "source": [
    "lastFiltered.keys().saveAsTextFile(outputPath)"
   ]
  },
  {
   "cell_type": "code",
   "execution_count": 26,
   "id": "numerical-jefferson",
   "metadata": {},
   "outputs": [],
   "source": [
    "#----EXERCISE 2 , B:\n",
    "\n",
    "def mapCountryCounters(pair):\n",
    "    if \"museum\" in pair[1]:\n",
    "        return (1,1)\n",
    "    else:\n",
    "        return (0,1)\n",
    "    \n",
    "    \n",
    "countersRDD = groupedByCityRDD.map(mapCountryCounters)"
   ]
  },
  {
   "cell_type": "code",
   "execution_count": 29,
   "id": "framed-pasta",
   "metadata": {},
   "outputs": [],
   "source": [
    "pair = countersRDD.reduce(lambda pair1, pair2: (pair1[0]+pair2[0], pair1[1]+pair2[1]))\n",
    "averageMuseumsPerCity = pair[0]/pair[1]"
   ]
  },
  {
   "cell_type": "code",
   "execution_count": 35,
   "id": "accompanied-flavor",
   "metadata": {},
   "outputs": [],
   "source": [
    "def mapValuePerMuseums(value):\n",
    "    if value==\"museum\":\n",
    "        return 1\n",
    "    else:\n",
    "        return 0\n",
    "    \n",
    "    \n",
    "cityMuseum = city_subcatRDD.mapValues(mapValuePerMuseums)"
   ]
  },
  {
   "cell_type": "code",
   "execution_count": 36,
   "id": "municipal-township",
   "metadata": {},
   "outputs": [],
   "source": [
    "cityNumMuseum = cityMuseum.reduceByKey(lambda v1,v2: v1+v2)"
   ]
  },
  {
   "cell_type": "code",
   "execution_count": 39,
   "id": "korean-diameter",
   "metadata": {},
   "outputs": [],
   "source": [
    "cityNumMuseum.filter(lambda pair: pair[1] > averageMuseumsPerCity).keys().saveAsTextFile(outputPath)"
   ]
  },
  {
   "cell_type": "code",
   "execution_count": 40,
   "id": "atlantic-ceramic",
   "metadata": {},
   "outputs": [
    {
     "data": {
      "text/plain": [
       "<function __main__.museums(subcategory)>"
      ]
     },
     "execution_count": 40,
     "metadata": {},
     "output_type": "execute_result"
    }
   ],
   "source": [
    "#-----EXERCISE 2, B / ALTERNATIVE:\n",
    "\n",
    "# DEFINE DF and rename columns\n",
    "def museums(subcategory):\n",
    "    if subcategory==\"museum\":\n",
    "        return 1\n",
    "    else:\n",
    "        return 0\n",
    "    \n",
    "spark.udf.register(\"numMuseums\",museums)"
   ]
  },
  {
   "cell_type": "code",
   "execution_count": null,
   "id": "dynamic-skirt",
   "metadata": {},
   "outputs": [],
   "source": [
    "cityNumMuseumsDF = spark.sql(\"SELECT city, SUM(numMuseums(subcategory))\\\n",
    "            FROM inputData WHERE subcategory='museum'\\\n",
    "            GROUP BY city\")\n",
    "\n",
    "#query the average numMuseum in italy and then filter the cities...."
   ]
  }
 ],
 "metadata": {
  "kernelspec": {
   "display_name": "PySpark (Local)",
   "language": "python",
   "name": "pyspark_local"
  },
  "language_info": {
   "codemirror_mode": {
    "name": "ipython",
    "version": 3
   },
   "file_extension": ".py",
   "mimetype": "text/x-python",
   "name": "python",
   "nbconvert_exporter": "python",
   "pygments_lexer": "ipython3",
   "version": "3.7.9"
  }
 },
 "nbformat": 4,
 "nbformat_minor": 5
}
