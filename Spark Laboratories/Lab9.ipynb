{
 "cells": [
  {
   "cell_type": "code",
   "execution_count": 1,
   "id": "adverse-medline",
   "metadata": {},
   "outputs": [],
   "source": [
    "airportsPath = \"/data/students/bigdata-01QYD/Lab9_DBD/airports.csv\"\n",
    "airlinesPath = \"/data/students/bigdata-01QYD/Lab9_DBD/airlines.csv\"\n",
    "routesPath = \"/data/students/bigdata-01QYD/Lab9_DBD/routes.csv\"\n",
    "from graphframes import GraphFrame"
   ]
  },
  {
   "cell_type": "markdown",
   "id": "professional-violin",
   "metadata": {},
   "source": [
    "# Step 1 - Create the graph of flight connections"
   ]
  },
  {
   "cell_type": "code",
   "execution_count": 2,
   "id": "extreme-invalid",
   "metadata": {},
   "outputs": [],
   "source": [
    "airports_vDF = spark.read.load(airportsPath,\\\n",
    "                              format='csv',\\\n",
    "                              header=True,\\\n",
    "                              inferSchema=True)"
   ]
  },
  {
   "cell_type": "code",
   "execution_count": 3,
   "id": "intense-colony",
   "metadata": {},
   "outputs": [],
   "source": [
    "routes_eDF = spark.read.load(routesPath,\\\n",
    "                              format='csv',\\\n",
    "                              header=True,\\\n",
    "                              inferSchema=True)"
   ]
  },
  {
   "cell_type": "code",
   "execution_count": null,
   "id": "interested-israeli",
   "metadata": {},
   "outputs": [],
   "source": [
    "airports_vDF.printSchema()"
   ]
  },
  {
   "cell_type": "code",
   "execution_count": null,
   "id": "closed-easter",
   "metadata": {},
   "outputs": [],
   "source": [
    "routes_eDF.printSchema()"
   ]
  },
  {
   "cell_type": "code",
   "execution_count": 6,
   "id": "celtic-sterling",
   "metadata": {},
   "outputs": [],
   "source": [
    "# filtering null airport source/destinations\n",
    "routes_filtered_eDF = routes_eDF.filter(\"airport_source IS NOT NULL AND \\\n",
    "airport_source_id IS NOT NULL AND airport_destination IS NOT NULL AND \\\n",
    "airport_destination_id IS NOT NULL\").withColumnRenamed(\"airport_source_id\",\"src\")\\\n",
    ".withColumnRenamed(\"airport_destination_id\",\"dst\")"
   ]
  },
  {
   "cell_type": "code",
   "execution_count": 7,
   "id": "diverse-concern",
   "metadata": {},
   "outputs": [],
   "source": [
    "g = GraphFrame(airports_vDF, routes_filtered_eDF)"
   ]
  },
  {
   "cell_type": "markdown",
   "id": "naughty-general",
   "metadata": {},
   "source": [
    "# STEP 2 - Analyze and proccess the graph"
   ]
  },
  {
   "cell_type": "code",
   "execution_count": 100,
   "id": "entitled-laundry",
   "metadata": {},
   "outputs": [],
   "source": [
    "# Task 1\n",
    "sc.setCheckpointDir(\"checkpointDir_Lab9/\")\n",
    "vertexesInDegreesDF = g.inDegrees.sort(\"inDegree\",ascending=False)"
   ]
  },
  {
   "cell_type": "code",
   "execution_count": 29,
   "id": "superior-knife",
   "metadata": {},
   "outputs": [],
   "source": [
    "firstTenDF = spark.createDataFrame(vertexesInDegreesDF.withColumnRenamed(\"id\",\"airportID\").take(10))"
   ]
  },
  {
   "cell_type": "code",
   "execution_count": 31,
   "id": "pleasant-administration",
   "metadata": {},
   "outputs": [
    {
     "name": "stdout",
     "output_type": "stream",
     "text": [
      "+---------+--------+\n",
      "|airportID|inDegree|\n",
      "+---------+--------+\n",
      "|     3682|     911|\n",
      "|     3830|     550|\n",
      "|     3364|     534|\n",
      "|      507|     522|\n",
      "|     1382|     517|\n",
      "|     3484|     498|\n",
      "|      340|     493|\n",
      "|     3670|     467|\n",
      "|     3797|     455|\n",
      "|      580|     450|\n",
      "+---------+--------+\n",
      "\n"
     ]
    }
   ],
   "source": [
    "firstTenDF.show()"
   ]
  },
  {
   "cell_type": "code",
   "execution_count": 33,
   "id": "usual-label",
   "metadata": {},
   "outputs": [
    {
     "name": "stdout",
     "output_type": "stream",
     "text": [
      "+----+--------------------+--------+\n",
      "|  id|                name|inDegree|\n",
      "+----+--------------------+--------+\n",
      "|3682|Hartsfield Jackso...|     911|\n",
      "|3830|Chicago O'Hare In...|     550|\n",
      "|3364|Beijing Capital I...|     534|\n",
      "| 507|London Heathrow A...|     522|\n",
      "|1382|Charles de Gaulle...|     517|\n",
      "|3484|Los Angeles Inter...|     498|\n",
      "| 340|Frankfurt am Main...|     493|\n",
      "|3670|Dallas Fort Worth...|     467|\n",
      "|3797|John F Kennedy In...|     455|\n",
      "| 580|Amsterdam Airport...|     450|\n",
      "+----+--------------------+--------+\n",
      "\n"
     ]
    }
   ],
   "source": [
    "joinedDF = firstTenDF.join(airports_vDF, firstTenDF.airportID == airports_vDF.id)\\\n",
    ".select(\"id\",\"name\",\"inDegree\").show()"
   ]
  },
  {
   "cell_type": "code",
   "execution_count": 44,
   "id": "pressing-livestock",
   "metadata": {},
   "outputs": [],
   "source": [
    "# Task 2, we have to convert vertex_id edges_src and edges_dst columns\n",
    "#into strings before applying any algorithm\n",
    "airports_vDF = airports_vDF.withColumn(\"id\", airports_vDF.id.cast(\"string\"))\n",
    "routes_filtered_eDF = routes_filtered_eDF.withColumn(\"src\",\\\n",
    "                                        routes_filtered_eDF.src.cast(\"string\"))\\\n",
    "                                         .withColumn(\"dst\",\\\n",
    "                                        routes_filtered_eDF.dst.cast(\"string\"))\n",
    "fixedGraph = GraphFrame(airports_vDF, routes_filtered_eDF)"
   ]
  },
  {
   "cell_type": "code",
   "execution_count": 49,
   "id": "civilian-wireless",
   "metadata": {},
   "outputs": [],
   "source": [
    "motif1 = fixedGraph.find(\"(Turin)-[]->(dest)\")"
   ]
  },
  {
   "cell_type": "code",
   "execution_count": 55,
   "id": "received-wellington",
   "metadata": {},
   "outputs": [],
   "source": [
    "turinDestinationsOneF = motif1.filter(\"Turin.id = 1526\")"
   ]
  },
  {
   "cell_type": "code",
   "execution_count": null,
   "id": "interstate-notification",
   "metadata": {},
   "outputs": [],
   "source": [
    "turinDestinationsOneF.show()"
   ]
  },
  {
   "cell_type": "code",
   "execution_count": 63,
   "id": "polar-restoration",
   "metadata": {},
   "outputs": [
    {
     "data": {
      "text/plain": [
       "44"
      ]
     },
     "execution_count": 63,
     "metadata": {},
     "output_type": "execute_result"
    }
   ],
   "source": [
    "turinDestinationsOneF.count()"
   ]
  },
  {
   "cell_type": "code",
   "execution_count": 103,
   "id": "intense-optimization",
   "metadata": {},
   "outputs": [
    {
     "name": "stdout",
     "output_type": "stream",
     "text": [
      "44\n"
     ]
    }
   ],
   "source": [
    "# ALTERNATIVE : \n",
    "print(fixedGraph.edges.filter(\"src=1526\").count()"
   ]
  },
  {
   "cell_type": "code",
   "execution_count": 104,
   "id": "stock-constant",
   "metadata": {},
   "outputs": [],
   "source": [
    "motif2 = fixedGraph.find(\"(Turin)-[]->(a1);(a1)-[]->(a2)\")\n",
    "turinDestinationsTwoF = motif2.filter(\"Turin.id = 1526 AND a2.id <> 1526\").select(\"Turin\",\"a2\")"
   ]
  },
  {
   "cell_type": "code",
   "execution_count": 105,
   "id": "chronic-perfume",
   "metadata": {},
   "outputs": [
    {
     "name": "stdout",
     "output_type": "stream",
     "text": [
      "+--------------------+--------------------+\n",
      "|               Turin|                  a2|\n",
      "+--------------------+--------------------+\n",
      "|[1526, Turin Airp...|[1741, Podgorica ...|\n",
      "|[1526, Turin Airp...|[1688, Antalya In...|\n",
      "|[1526, Turin Airp...|[1706, Adnan Mend...|\n",
      "|[1526, Turin Airp...|[1226, Jerez Airp...|\n",
      "|[1526, Turin Airp...|[1056, Tenerife S...|\n",
      "|[1526, Turin Airp...|[1472, Diagoras A...|\n",
      "|[1526, Turin Airp...|[3998, Palma De M...|\n",
      "|[1526, Turin Airp...|[1054, Gran Canar...|\n",
      "|[1526, Turin Airp...|[1458, Kos Airpor...|\n",
      "|[1526, Turin Airp...|[1130, Hurghada I...|\n",
      "|[1526, Turin Airp...|[1452, Heraklion ...|\n",
      "|[1526, Turin Airp...|[1473, Araxos Air...|\n",
      "|[1526, Turin Airp...|[1051, Fuertevent...|\n",
      "|[1526, Turin Airp...|[1626, Faro Airpo...|\n",
      "|[1526, Turin Airp...|[1715, Dalaman In...|\n",
      "|[1526, Turin Airp...|[1460, Ioannis Ka...|\n",
      "|[1526, Turin Airp...|[1688, Antalya In...|\n",
      "|[1526, Turin Airp...|[4330, Imam Khome...|\n",
      "|[1526, Turin Airp...|[1218, Barcelona ...|\n",
      "|[1526, Turin Airp...|[3830, Chicago O'...|\n",
      "+--------------------+--------------------+\n",
      "only showing top 20 rows\n",
      "\n"
     ]
    }
   ],
   "source": [
    "turinDestinationsTwoF.show()"
   ]
  },
  {
   "cell_type": "code",
   "execution_count": 106,
   "id": "detected-rugby",
   "metadata": {},
   "outputs": [
    {
     "data": {
      "text/plain": [
       "589"
      ]
     },
     "execution_count": 106,
     "metadata": {},
     "output_type": "execute_result"
    }
   ],
   "source": [
    "turinDestinationsTwoF.select(\"a2.id\").distinct().count()"
   ]
  },
  {
   "cell_type": "code",
   "execution_count": 69,
   "id": "appropriate-easter",
   "metadata": {},
   "outputs": [],
   "source": [
    "motif3 = fixedGraph.find(\"(Turin)-[]->(a1);(a1)-[]->(a2);(a2)-[]->(a3)\")\n",
    "turinDestinationsThreeF = motif3.filter(\"Turin.id = 1526\").select(\"Turin\",\"a3\")"
   ]
  },
  {
   "cell_type": "code",
   "execution_count": 70,
   "id": "varied-hayes",
   "metadata": {},
   "outputs": [
    {
     "name": "stdout",
     "output_type": "stream",
     "text": [
      "+--------------------+--------------------+\n",
      "|               Turin|                  a3|\n",
      "+--------------------+--------------------+\n",
      "|[1526, Turin Airp...|[1678, Zürich Air...|\n",
      "|[1526, Turin Airp...|[1613, Vienna Int...|\n",
      "|[1526, Turin Airp...|[1569, Ljubljana ...|\n",
      "|[1526, Turin Airp...|[340, Frankfurt a...|\n",
      "|[1526, Turin Airp...|[1555, Leonardo d...|\n",
      "|[1526, Turin Airp...|[345, Düsseldorf ...|\n",
      "|[1526, Turin Airp...|[4029, Domodedovo...|\n",
      "|[1526, Turin Airp...|[1382, Charles de...|\n",
      "|[1526, Turin Airp...|[1739, Belgrade N...|\n",
      "|[1526, Turin Airp...|[1701, Atatürk In...|\n",
      "|[1526, Turin Airp...|[1613, Vienna Int...|\n",
      "|[1526, Turin Airp...|[1739, Belgrade N...|\n",
      "|[1526, Turin Airp...|[1569, Ljubljana ...|\n",
      "|[1526, Turin Airp...|[548, London Stan...|\n",
      "|[1526, Turin Airp...|[304, Brussels So...|\n",
      "|[1526, Turin Airp...|[1555, Leonardo d...|\n",
      "|[1526, Turin Airp...|[478, Manchester ...|\n",
      "|[1526, Turin Airp...|[492, London Luto...|\n",
      "|[1526, Turin Airp...|[502, London Gatw...|\n",
      "|[1526, Turin Airp...|[517, Leeds Bradf...|\n",
      "+--------------------+--------------------+\n",
      "only showing top 20 rows\n",
      "\n"
     ]
    }
   ],
   "source": [
    "turinDestinationsThreeF.show()"
   ]
  },
  {
   "cell_type": "code",
   "execution_count": 72,
   "id": "extreme-advertiser",
   "metadata": {},
   "outputs": [
    {
     "data": {
      "text/plain": [
       "2210"
      ]
     },
     "execution_count": 72,
     "metadata": {},
     "output_type": "execute_result"
    }
   ],
   "source": [
    "turinDestinationsThreeF.select(\"a3.id\").distinct().count()"
   ]
  },
  {
   "cell_type": "code",
   "execution_count": 76,
   "id": "suited-shelf",
   "metadata": {},
   "outputs": [],
   "source": [
    "# Task 3\n",
    "shPathsToTurin = fixedGraph.shortestPaths(['1526'])"
   ]
  },
  {
   "cell_type": "code",
   "execution_count": 78,
   "id": "controlled-passenger",
   "metadata": {},
   "outputs": [
    {
     "name": "stdout",
     "output_type": "stream",
     "text": [
      "root\n",
      " |-- id: string (nullable = true)\n",
      " |-- name: string (nullable = true)\n",
      " |-- city: string (nullable = true)\n",
      " |-- country: string (nullable = true)\n",
      " |-- iata: string (nullable = true)\n",
      " |-- icao: string (nullable = true)\n",
      " |-- latitude: double (nullable = true)\n",
      " |-- longitude: double (nullable = true)\n",
      " |-- altitude: integer (nullable = true)\n",
      " |-- timezone: string (nullable = true)\n",
      " |-- DST: string (nullable = true)\n",
      " |-- tz_timezone: string (nullable = true)\n",
      " |-- type: string (nullable = true)\n",
      " |-- source: string (nullable = true)\n",
      " |-- distances: map (nullable = true)\n",
      " |    |-- key: string\n",
      " |    |-- value: integer (valueContainsNull = false)\n",
      "\n"
     ]
    }
   ],
   "source": [
    "shPathsToTurin.printSchema()"
   ]
  },
  {
   "cell_type": "code",
   "execution_count": 86,
   "id": "encouraging-dream",
   "metadata": {},
   "outputs": [],
   "source": [
    "hops = shPathsToTurin.selectExpr(\"distances['1526'] AS numHops\")"
   ]
  },
  {
   "cell_type": "code",
   "execution_count": 94,
   "id": "dominican-anthropology",
   "metadata": {},
   "outputs": [],
   "source": [
    "maxHops = hops.agg({\"numHops\":\"max\"}).first()"
   ]
  },
  {
   "cell_type": "code",
   "execution_count": 93,
   "id": "severe-generic",
   "metadata": {},
   "outputs": [
    {
     "data": {
      "text/plain": [
       "[Row(max(numHops)=8)]"
      ]
     },
     "execution_count": 93,
     "metadata": {},
     "output_type": "execute_result"
    }
   ],
   "source": [
    "maxHops"
   ]
  },
  {
   "cell_type": "code",
   "execution_count": 98,
   "id": "duplicate-shoot",
   "metadata": {},
   "outputs": [
    {
     "name": "stdout",
     "output_type": "stream",
     "text": [
      "+-----------------+---------+-------+-------+\n",
      "|             name|     city|country|numHops|\n",
      "+-----------------+---------+-------+-------+\n",
      "|Peawanuck Airport|Peawanuck| Canada|      8|\n",
      "+-----------------+---------+-------+-------+\n",
      "\n"
     ]
    }
   ],
   "source": [
    "# farther airport from turin\n",
    "shPathsToTurin.filter(\"distances['1526'] =\"+str(maxHops['max(numHops)'])).selectExpr(\"name\",\"city\",\"country\",\"distances['1526'] AS numHops\").show()"
   ]
  },
  {
   "cell_type": "code",
   "execution_count": 101,
   "id": "detailed-associate",
   "metadata": {},
   "outputs": [],
   "source": [
    "# TASK 4 - Connected Components\n",
    "connectedComponents = fixedGraph.connectedComponents()"
   ]
  },
  {
   "cell_type": "code",
   "execution_count": 110,
   "id": "southeast-liquid",
   "metadata": {},
   "outputs": [
    {
     "data": {
      "text/plain": [
       "7"
      ]
     },
     "execution_count": 110,
     "metadata": {},
     "output_type": "execute_result"
    }
   ],
   "source": [
    "# print num of connectedComponents with at least 2 components\n",
    "connectedComponents.groupBy(\"component\").count().filter(\"count >= 2\").count()"
   ]
  },
  {
   "cell_type": "code",
   "execution_count": null,
   "id": "piano-baker",
   "metadata": {},
   "outputs": [],
   "source": []
  }
 ],
 "metadata": {
  "kernelspec": {
   "display_name": "GraphFrames (Yarn)",
   "language": "python",
   "name": "graphframe_yarn"
  },
  "language_info": {
   "codemirror_mode": {
    "name": "ipython",
    "version": 3
   },
   "file_extension": ".py",
   "mimetype": "text/x-python",
   "name": "python",
   "nbconvert_exporter": "python",
   "pygments_lexer": "ipython3",
   "version": "3.7.9"
  }
 },
 "nbformat": 4,
 "nbformat_minor": 5
}
