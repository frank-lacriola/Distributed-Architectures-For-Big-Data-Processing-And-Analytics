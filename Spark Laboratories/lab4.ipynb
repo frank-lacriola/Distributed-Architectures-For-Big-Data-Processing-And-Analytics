{
 "cells": [
  {
   "cell_type": "code",
   "execution_count": 1,
   "id": "worse-seller",
   "metadata": {},
   "outputs": [],
   "source": [
    "inputPath = \"/data/students/bigdata-01QYD/Lab2/\"\n",
    "outputPath = \"res_out_Lab4/\""
   ]
  },
  {
   "cell_type": "code",
   "execution_count": null,
   "id": "tamil-belle",
   "metadata": {},
   "outputs": [],
   "source": [
    "    "
   ]
  },
  {
   "cell_type": "code",
   "execution_count": 8,
   "id": "vanilla-treasurer",
   "metadata": {},
   "outputs": [],
   "source": [
    "#Task 1 -----\n",
    "wordFreqRDD = sc.textFile(inputPath)\n",
    "hoLinesRDD = wordFreqRDD.filter(lambda line: line.split()[0].lower().find(\"ho\") == 0)  "
   ]
  },
  {
   "cell_type": "code",
   "execution_count": 9,
   "id": "coordinate-laugh",
   "metadata": {},
   "outputs": [],
   "source": [
    "numLines = hoLinesRDD.count()"
   ]
  },
  {
   "cell_type": "code",
   "execution_count": 11,
   "id": "hired-potter",
   "metadata": {},
   "outputs": [
    {
     "name": "stdout",
     "output_type": "stream",
     "text": [
      "The number of the selected lines is 1913\n"
     ]
    }
   ],
   "source": [
    "print(f\"The number of the selected lines is {numLines}\")"
   ]
  },
  {
   "cell_type": "code",
   "execution_count": 13,
   "id": "separate-ensemble",
   "metadata": {},
   "outputs": [],
   "source": [
    "freqRDD = hoLinesRDD.map(lambda line: int(line.split(\"\\t\")[1]))"
   ]
  },
  {
   "cell_type": "code",
   "execution_count": 15,
   "id": "alone-rugby",
   "metadata": {},
   "outputs": [],
   "source": [
    "maxfreq = freqRDD.reduce(lambda v1, v2: max(v1,v2))"
   ]
  },
  {
   "cell_type": "code",
   "execution_count": 16,
   "id": "removed-principle",
   "metadata": {},
   "outputs": [
    {
     "name": "stdout",
     "output_type": "stream",
     "text": [
      "The max frequency in the selected lines is 39399\n"
     ]
    }
   ],
   "source": [
    "print(f\"The max frequency in the selected lines is {maxfreq}\")\n",
    "\n",
    "#End of task1 .-----"
   ]
  },
  {
   "cell_type": "code",
   "execution_count": 18,
   "id": "immune-prospect",
   "metadata": {},
   "outputs": [],
   "source": [
    "#Task 2------\n",
    "\n",
    "greaterFreqRDD = hoLinesRDD.filter(lambda line: int(line.split(\"\\t\")[1]) > 0.8*maxfreq)"
   ]
  },
  {
   "cell_type": "code",
   "execution_count": 20,
   "id": "urban-greeting",
   "metadata": {},
   "outputs": [
    {
     "name": "stdout",
     "output_type": "stream",
     "text": [
      "The number of lines selected is 3\n"
     ]
    }
   ],
   "source": [
    "print(f\"The number of lines selected is {greaterFreqRDD.count()}\")"
   ]
  },
  {
   "cell_type": "code",
   "execution_count": 21,
   "id": "current-pencil",
   "metadata": {},
   "outputs": [],
   "source": [
    "wordsToSaveRDD = greaterFreqRDD.map(lambda line: line.split(\"\\t\")[0])"
   ]
  },
  {
   "cell_type": "code",
   "execution_count": null,
   "id": "interesting-elder",
   "metadata": {},
   "outputs": [],
   "source": [
    "wordsToSaveRDD.saveAsTextFile(outputPath)"
   ]
  },
  {
   "cell_type": "code",
   "execution_count": 23,
   "id": "extended-allocation",
   "metadata": {},
   "outputs": [
    {
     "data": {
      "text/plain": [
       "['hot', 'how', 'however']"
      ]
     },
     "execution_count": 23,
     "metadata": {},
     "output_type": "execute_result"
    }
   ],
   "source": [
    "wordsToSaveRDD.collect()"
   ]
  },
  {
   "cell_type": "code",
   "execution_count": null,
   "id": "postal-wright",
   "metadata": {},
   "outputs": [],
   "source": []
  }
 ],
 "metadata": {
  "kernelspec": {
   "display_name": "PySpark (Local)",
   "language": "python",
   "name": "pyspark_local"
  },
  "language_info": {
   "codemirror_mode": {
    "name": "ipython",
    "version": 3
   },
   "file_extension": ".py",
   "mimetype": "text/x-python",
   "name": "python",
   "nbconvert_exporter": "python",
   "pygments_lexer": "ipython3",
   "version": "3.7.9"
  }
 },
 "nbformat": 4,
 "nbformat_minor": 5
}
