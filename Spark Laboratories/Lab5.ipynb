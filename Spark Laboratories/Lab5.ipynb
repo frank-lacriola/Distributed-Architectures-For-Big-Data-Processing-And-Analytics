{
 "cells": [
  {
   "cell_type": "code",
   "execution_count": 1,
   "id": "close-failing",
   "metadata": {},
   "outputs": [],
   "source": [
    "inputPath = \"/data/students/bigdata-01QYD/Lab5_DBD/Reviews.csv\"\n",
    "outputPath = \"res_out_Lab5/\""
   ]
  },
  {
   "cell_type": "code",
   "execution_count": null,
   "id": "suffering-running",
   "metadata": {},
   "outputs": [],
   "source": [
    "pairSidMostCriticalRDD.collect()"
   ]
  },
  {
   "cell_type": "code",
   "execution_count": 2,
   "id": "based-catalyst",
   "metadata": {},
   "outputs": [],
   "source": [
    "reviewsRDD = sc.textFile(inputPath)"
   ]
  },
  {
   "cell_type": "code",
   "execution_count": 3,
   "id": "empirical-seafood",
   "metadata": {},
   "outputs": [],
   "source": [
    "header = reviewsRDD.first() #extract header\n",
    "dataRDD = reviewsRDD.filter(lambda row : row != header)   #filter out header"
   ]
  },
  {
   "cell_type": "code",
   "execution_count": 4,
   "id": "polar-survival",
   "metadata": {},
   "outputs": [],
   "source": [
    "pairsRDD = dataRDD.map(lambda line: (line.split(',')[2], line.split(',')[1]))"
   ]
  },
  {
   "cell_type": "code",
   "execution_count": 5,
   "id": "incorrect-collect",
   "metadata": {},
   "outputs": [],
   "source": [
    "transposedRDD = pairsRDD.groupByKey()"
   ]
  },
  {
   "cell_type": "code",
   "execution_count": 6,
   "id": "alternative-banana",
   "metadata": {},
   "outputs": [],
   "source": [
    "transposedNoDuplicatesRDD = transposedRDD.mapValues(lambda listValues:\\\n",
    "                                                    list(set(listValues)))"
   ]
  },
  {
   "cell_type": "code",
   "execution_count": 7,
   "id": "peripheral-suspension",
   "metadata": {},
   "outputs": [],
   "source": [
    "def pairOnesGenerator(line):\n",
    "    pairs = []\n",
    "    productList = line[1]\n",
    "    for i in productList:\n",
    "        for j in productList:\n",
    "            if i < j:\n",
    "                pairs.append(((i, j), 1))\n",
    "    return pairs"
   ]
  },
  {
   "cell_type": "code",
   "execution_count": 8,
   "id": "enclosed-relation",
   "metadata": {},
   "outputs": [],
   "source": [
    "productsPairRDD = transposedNoDuplicatesRDD.flatMap(pairOnesGenerator)"
   ]
  },
  {
   "cell_type": "code",
   "execution_count": 9,
   "id": "saved-manner",
   "metadata": {},
   "outputs": [],
   "source": [
    "pairCountRDD = productsPairRDD.reduceByKey(lambda v1,v2: v1+v2)"
   ]
  },
  {
   "cell_type": "code",
   "execution_count": 10,
   "id": "complicated-motel",
   "metadata": {},
   "outputs": [],
   "source": [
    "pairCountFilteredRDD = pairCountRDD.filter(lambda pair: pair[1] > 1)"
   ]
  },
  {
   "cell_type": "code",
   "execution_count": 11,
   "id": "happy-exhibition",
   "metadata": {},
   "outputs": [],
   "source": [
    "outputRDD = pairCountFilteredRDD.sortBy(lambda pair: pair[1], False).cache()"
   ]
  },
  {
   "cell_type": "code",
   "execution_count": 12,
   "id": "composed-conviction",
   "metadata": {},
   "outputs": [],
   "source": [
    "outputRDD.saveAsTextFile(outputPath)"
   ]
  },
  {
   "cell_type": "code",
   "execution_count": 21,
   "id": "grand-destination",
   "metadata": {},
   "outputs": [],
   "source": [
    "#############################\n",
    "# Task 2\n",
    "#############################"
   ]
  },
  {
   "cell_type": "code",
   "execution_count": null,
   "id": "meaning-composition",
   "metadata": {},
   "outputs": [],
   "source": []
  }
 ],
 "metadata": {
  "kernelspec": {
   "display_name": "PySpark (Local)",
   "language": "python",
   "name": "pyspark_local"
  },
  "language_info": {
   "codemirror_mode": {
    "name": "ipython",
    "version": 3
   },
   "file_extension": ".py",
   "mimetype": "text/x-python",
   "name": "python",
   "nbconvert_exporter": "python",
   "pygments_lexer": "ipython3",
   "version": "3.7.9"
  }
 },
 "nbformat": 4,
 "nbformat_minor": 5
}
